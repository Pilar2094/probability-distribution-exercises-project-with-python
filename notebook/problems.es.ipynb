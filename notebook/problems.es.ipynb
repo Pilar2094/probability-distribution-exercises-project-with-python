{
 "cells": [
  {
   "cell_type": "markdown",
   "id": "b967ebc8",
   "metadata": {},
   "source": [
    "# Problemas de distribución de probabilidad"
   ]
  },
  {
   "cell_type": "markdown",
   "id": "c9b71587",
   "metadata": {},
   "source": [
    "## Distribución binomial\n",
    "\n",
    "En teoría de la probabilidad y estadística, la distribución binomial es la distribución de probabilidad discreta que da sólo dos resultados posibles en un experimento; por ejemplo, al lanzar una moneda, puede salir cara o cruz."
   ]
  },
  {
   "cell_type": "code",
   "execution_count": 13,
   "id": "4eb16d6e",
   "metadata": {},
   "outputs": [],
   "source": [
    "from scipy.stats import binom\n",
    "\n",
    "# Definir todas las funciones de probabilidad relacionadas con esta distribución.\n",
    "\n",
    "def dbinom(x, size, prob = 0.5):\n",
    "    \"\"\"\n",
    "    Calcula la estimación puntual de la distribución binomial.\n",
    "    \"\"\"\n",
    "    result = binom.pmf(k = x, n = size, p = prob, loc = 0)\n",
    "\n",
    "    return result\n",
    "\n",
    "def pbinom(q, size, prob = 0.5):\n",
    "    \"\"\"\n",
    "    Calcula el acumulado de la distribución binomial.\n",
    "    \"\"\"\n",
    "    result = binom.cdf(k = q, n = size, p = prob, loc = 0)\n",
    "\n",
    "    return result\n",
    "\n",
    "def qbinom(p, size, prob = 0.5):\n",
    "    \"\"\"\n",
    "    Calcula la función cuantil a partir de la distribución binomial.\n",
    "    \"\"\"\n",
    "    result = binom.ppf(q = p, n = size, p = prob, loc = 0)\n",
    "\n",
    "    return result\n",
    "\n",
    "def rbinom(n, size, prob = 0.5):\n",
    "    \"\"\"\n",
    "    Genera variables aleatorias a partir de la distribución binomial.\n",
    "    \"\"\"\n",
    "    result = binom.rvs(n = size, p = prob, size = n)\n",
    "\n",
    "    return result\n"
   ]
  },
  {
   "cell_type": "code",
   "execution_count": 10,
   "id": "6cf6313a",
   "metadata": {},
   "outputs": [
    {
     "name": "stdout",
     "output_type": "stream",
     "text": [
      "Probability that a Binomial(10, 0.2) takes the value 2: 0.30198988800000004\n",
      "Probability that a Binomial(10, 0.2) will take a value less than 2: 0.6777995263999999\n",
      "Which value of a Binomial(10, 0.2) has a cumulative probability of 0.9? 4.0\n",
      "Generate 2000 random values from a Binomial(10, 0.2) distribution: [1 4 3 ... 0 0 1]\n"
     ]
    }
   ],
   "source": [
    "# Distribución binomial(10, 0.2), dónde n = 10 es el número de ensayos y p = 0.2 es la probabilidad de éxito en un solo ensayo\n",
    "import numpy as np\n",
    "\n",
    "np.random.seed(42)\n",
    "\n",
    "print(f\"Probability that a Binomial(10, 0.2) takes the value 2: {dbinom(2, size = 10, prob = 0.2)}\")\n",
    "print(f\"Probability that a Binomial(10, 0.2) will take a value less than 2: {pbinom(2, size = 10, prob = 0.2)}\")\n",
    "print(f\"Which value of a Binomial(10, 0.2) has a cumulative probability of 0.9? {qbinom(0.9, size = 10, prob = 0.2)}\")\n",
    "print(f\"Generate 2000 random values from a Binomial(10, 0.2) distribution: {rbinom(2000, size = 10, prob = 0.2)}\")\n"
   ]
  },
  {
   "cell_type": "code",
   "execution_count": 23,
   "id": "69fd07da",
   "metadata": {},
   "outputs": [
    {
     "ename": "IndexError",
     "evalue": "index 2 is out of bounds for axis 0 with size 2",
     "output_type": "error",
     "traceback": [
      "\u001b[0;31m---------------------------------------------------------------------------\u001b[0m",
      "\u001b[0;31mIndexError\u001b[0m                                Traceback (most recent call last)",
      "Cell \u001b[0;32mIn[23], line 17\u001b[0m\n\u001b[1;32m     15\u001b[0m axis[\u001b[38;5;241m0\u001b[39m]\u001b[38;5;241m.\u001b[39mstem(data, pmf, \u001b[38;5;124m\"\u001b[39m\u001b[38;5;124mr-\u001b[39m\u001b[38;5;124m\"\u001b[39m)\n\u001b[1;32m     16\u001b[0m axis[\u001b[38;5;241m1\u001b[39m]\u001b[38;5;241m.\u001b[39mstem(data, cdf, \u001b[38;5;124m\"\u001b[39m\u001b[38;5;124mb-\u001b[39m\u001b[38;5;124m\"\u001b[39m)\n\u001b[0;32m---> 17\u001b[0m \u001b[43maxis\u001b[49m\u001b[43m[\u001b[49m\u001b[38;5;241;43m2\u001b[39;49m\u001b[43m]\u001b[49m\u001b[38;5;241m.\u001b[39mstem(data, ppf, \u001b[38;5;124m\"\u001b[39m\u001b[38;5;124mg-\u001b[39m\u001b[38;5;124m\"\u001b[39m)\n\u001b[1;32m     19\u001b[0m \u001b[38;5;66;03m# Adjust the layout\u001b[39;00m\n\u001b[1;32m     20\u001b[0m plt\u001b[38;5;241m.\u001b[39mtight_layout()\n",
      "\u001b[0;31mIndexError\u001b[0m: index 2 is out of bounds for axis 0 with size 2"
     ]
    },
    {
     "data": {
      "image/png": "[encoded data removed]",
      "text/plain": [
       "<Figure size 300x500 with 2 Axes>"
      ]
     },
     "metadata": {},
     "output_type": "display_data"
    }
   ],
   "source": [
    "import matplotlib.pyplot as plt\n",
    "\n",
    "np.random.seed(42)\n",
    "\n",
    "size = 10\n",
    "prob = 0.2\n",
    "data = rbinom(2000, size = 10, prob = 0.2)\n",
    "\n",
    "pmf = dbinom(data, size = size, prob = prob)\n",
    "cdf = pbinom(data, size = size, prob = prob)\n",
    "ppf = qbinom(data, size = size, prob = prob)\n",
    "\n",
    "fig, axis = plt.subplots(2, 1, figsize = (3, 5))\n",
    "\n",
    "axis[0].stem(data, pmf, \"r-\")\n",
    "axis[1].stem(data, cdf, \"b-\")\n",
    "axis[2].stem(data, ppf, \"g-\")\n",
    "\n",
    "# Adjust the layout\n",
    "plt.tight_layout()\n",
    "\n",
    "# Show the plot\n",
    "plt.show()\n"
   ]
  },
  {
   "cell_type": "markdown",
   "id": "8aa7eaa0",
   "metadata": {},
   "source": [
    "## Ejercicio 1\n",
    "\n",
    "Escriba las funciones anteriores pero para distribuciones normales y uniformes."
   ]
  },
  {
   "cell_type": "code",
   "execution_count": null,
   "id": "98d5f012",
   "metadata": {},
   "outputs": [
    {
     "ename": "SyntaxError",
     "evalue": "invalid syntax. Maybe you meant '==' or ':=' instead of '='? (3774554282.py, line 12)",
     "output_type": "error",
     "traceback": [
      "\u001b[0;36m  Cell \u001b[0;32mIn[28], line 12\u001b[0;36m\u001b[0m\n\u001b[0;31m    result = norm.pdf((x, loc=loc, scale=scale))\u001b[0m\n\u001b[0m                          ^\u001b[0m\n\u001b[0;31mSyntaxError\u001b[0m\u001b[0;31m:\u001b[0m invalid syntax. Maybe you meant '==' or ':=' instead of '='?\n"
     ]
    }
   ],
   "source": [
    "# TODO\n",
    "import numpy as np\n",
    "import matplotlib.pyplot as plt\n",
    "\n",
    "def generar_distribucion_normal(media, desviacion_estandar, tamaño_muestra):\n",
    "    \"\"\"\n",
    "    Genera una distribución normal con la media y desviación estándar especificadas.\n",
    "    \n",
    "    :param media: Media de la distribución.\n",
    "    :param desviacion_estandar: Desviación estándar de la distribución.\n",
    "    :param tamaño_muestra: Número de muestras a generar.\n",
    "    :return: Array de muestras generadas.\n",
    "    \"\"\"\n",
    "    muestras = np.random.normal(media, desviacion_estandar, tamaño_muestra)\n",
    "    return muestras\n",
    "\n",
    "def generar_distribucion_uniforme(minimo, maximo, tamaño_muestra):\n",
    "    \"\"\"\n",
    "    Genera una distribución uniforme en el intervalo [minimo, maximo].\n",
    "    \n",
    "    :param minimo: Valor mínimo del intervalo.\n",
    "    :param maximo: Valor máximo del intervalo.\n",
    "    :param tamaño_muestra: Número de muestras a generar.\n",
    "    :return: Array de muestras generadas.\n",
    "    \"\"\"\n",
    "    muestras = np.random.uniform(minimo, maximo, tamaño_muestra)\n",
    "    return muestras\n",
    "\n",
    "def visualizar_distribucion(muestras, titulo):\n",
    "    \"\"\"\n",
    "    Visualiza la distribución de las muestras generadas.\n",
    "    \n",
    "    :param muestras: Array de muestras generadas.\n",
    "    :param titulo: Título del gráfico.\n",
    "    \"\"\"\n",
    "    plt.hist(muestras, bins=30, edgecolor='black', alpha=0.7)\n",
    "    plt.title(titulo)\n",
    "    plt.xlabel('Valor')\n",
    "    plt.ylabel('Frecuencia')\n",
    "    plt.show()\n",
    "\n",
    "# Ejemplo de uso\n",
    "muestras_normales = generar_distribucion_normal(media=0, desviacion_estandar=1, tamaño_muestra=1000)\n",
    "visualizar_distribucion(muestras_normales, 'Distribución Normal')\n",
    "\n",
    "muestras_uniformes = generar_distribucion_uniforme(minimo=0, maximo=10, tamaño_muestra=1000)\n",
    "visualizar_distribucion(muestras_uniformes, 'Distribución Uniforme')\n"
   ]
  }
 ],
 "metadata": {
  "kernelspec": {
   "display_name": "Python 3",
   "language": "python",
   "name": "python3"
  },
  "language_info": {
   "codemirror_mode": {
    "name": "ipython",
    "version": 3
   },
   "file_extension": ".py",
   "mimetype": "text/x-python",
   "name": "python",
   "nbconvert_exporter": "python",
   "pygments_lexer": "ipython3",
   "version": "3.11.4"
  }
 },
 "nbformat": 4,
 "nbformat_minor": 5
}
